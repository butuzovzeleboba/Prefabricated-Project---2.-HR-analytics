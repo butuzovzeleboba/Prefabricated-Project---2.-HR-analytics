{
 "cells": [
  {
   "cell_type": "markdown",
   "id": "5ad44613",
   "metadata": {},
   "source": [
    "# Описание проекта"
   ]
  },
  {
   "cell_type": "markdown",
   "id": "8b46bfa9",
   "metadata": {},
   "source": [
    "Перейдём к задаче. HR-аналитики компании «Работа с заботой» помогают бизнесу оптимизировать управление персоналом: бизнес предоставляет данные, а аналитики предлагают, как избежать финансовых потерь и оттока сотрудников. В этом HR-аналитикам пригодится машинное обучение, с помощью которого получится быстрее и точнее отвечать на вопросы бизнеса.\n",
    "\n",
    "У вас будет несколько задач. Первая — построить модель, которая сможет предсказать уровень удовлетворённости сотрудника на основе данных заказчика. \n",
    "Почему бизнесу это важно: удовлетворённость работой напрямую влияет на отток сотрудников. А предсказание оттока — одна из важнейших задач HR-аналитиков. Внезапные увольнения несут в себе риски для компании, особенно если уходит важный сотрудник.\n",
    "\n",
    "Ваша вторая задача — построить модель, которая сможет на основе данных заказчика предсказать то, что сотрудник уволится из компании.\n",
    "Теперь расскажем подробнее о задачах."
   ]
  },
  {
   "cell_type": "markdown",
   "id": "99dda847",
   "metadata": {},
   "source": [
    "Для этой задачи заказчик предоставил данные с признаками:\n",
    "- id — уникальный идентификатор сотрудника;\n",
    "- dept — отдел, в котором работает сотрудник;\n",
    "- level — уровень занимаемой должности;\n",
    "- workload — уровень загруженности сотрудника;\n",
    "- employment_years — длительность работы в компании (в годах);\n",
    "- last_year_promo — показывает, было ли повышение за последний год;\n",
    "- last_year_violations — показывает, нарушал ли сотрудник трудовой договор за последний год;\n",
    "- supervisor_evaluation — оценка качества работы сотрудника, которую дал руководитель;\n",
    "- salary — ежемесячная зарплата сотрудника;\n",
    "- job_satisfaction_rate — уровень удовлетворённости сотрудника работой в компании, целевой признак."
   ]
  },
  {
   "cell_type": "markdown",
   "id": "52f23085",
   "metadata": {},
   "source": [
    "# Загрузка данных"
   ]
  },
  {
   "cell_type": "markdown",
   "id": "8a493ac0",
   "metadata": {},
   "source": [
    "Загрузка и подключение нужных библиотек"
   ]
  },
  {
   "cell_type": "code",
   "execution_count": 92,
   "id": "4a6f01d2",
   "metadata": {},
   "outputs": [],
   "source": [
    "!pip install phik -q\n",
    "!pip install scikit-learn==1.5.0 -q"
   ]
  },
  {
   "cell_type": "code",
   "execution_count": 188,
   "id": "da469e3f",
   "metadata": {},
   "outputs": [],
   "source": [
    "import pandas as pd\n",
    "import numpy as np\n",
    "import matplotlib.pyplot as plt\n",
    "from sklearn.pipeline import Pipeline \n",
    "from sklearn.impute import SimpleImputer \n",
    "from sklearn.cluster import KMeans\n",
    "import seaborn as sns\n",
    "import phik"
   ]
  },
  {
   "cell_type": "code",
   "execution_count": 162,
   "id": "e11a7953",
   "metadata": {},
   "outputs": [],
   "source": [
    "RANDOM_STATE=42"
   ]
  },
  {
   "cell_type": "markdown",
   "id": "3ce9300f",
   "metadata": {},
   "source": [
    "Загрузка датафреймов"
   ]
  },
  {
   "cell_type": "code",
   "execution_count": 43,
   "id": "2a132f67",
   "metadata": {},
   "outputs": [],
   "source": [
    "test_features=pd.read_csv('./test_features.csv')"
   ]
  },
  {
   "cell_type": "code",
   "execution_count": 4,
   "id": "50413b32",
   "metadata": {},
   "outputs": [],
   "source": [
    "test_target_job_satisfaction_rate=pd.read_csv('./test_target_job_satisfaction_rate.csv')"
   ]
  },
  {
   "cell_type": "code",
   "execution_count": 5,
   "id": "1017d95f",
   "metadata": {},
   "outputs": [],
   "source": [
    "test_target_quit=pd.read_csv('./test_target_quit.csv') "
   ]
  },
  {
   "cell_type": "code",
   "execution_count": 6,
   "id": "2fab498d",
   "metadata": {},
   "outputs": [],
   "source": [
    "train_job_satisfaction_rate=pd.read_csv('./train_job_satisfaction_rate.csv')"
   ]
  },
  {
   "cell_type": "code",
   "execution_count": 7,
   "id": "3277ce4c",
   "metadata": {},
   "outputs": [],
   "source": [
    "train_quit=pd.read_csv('./train_quit.csv')"
   ]
  },
  {
   "cell_type": "markdown",
   "id": "0f152504",
   "metadata": {},
   "source": [
    "# Предобработка данных"
   ]
  },
  {
   "cell_type": "markdown",
   "id": "fe786b4d",
   "metadata": {},
   "source": [
    "## test_features"
   ]
  },
  {
   "cell_type": "markdown",
   "id": "88e71bdd",
   "metadata": {},
   "source": [
    "Информазия о датафрейме"
   ]
  },
  {
   "cell_type": "code",
   "execution_count": 10,
   "id": "e5450859",
   "metadata": {},
   "outputs": [
    {
     "name": "stdout",
     "output_type": "stream",
     "text": [
      "<class 'pandas.core.frame.DataFrame'>\n",
      "RangeIndex: 2000 entries, 0 to 1999\n",
      "Data columns (total 9 columns):\n",
      " #   Column                 Non-Null Count  Dtype \n",
      "---  ------                 --------------  ----- \n",
      " 0   id                     2000 non-null   int64 \n",
      " 1   dept                   1998 non-null   object\n",
      " 2   level                  1999 non-null   object\n",
      " 3   workload               2000 non-null   object\n",
      " 4   employment_years       2000 non-null   int64 \n",
      " 5   last_year_promo        2000 non-null   object\n",
      " 6   last_year_violations   2000 non-null   object\n",
      " 7   supervisor_evaluation  2000 non-null   int64 \n",
      " 8   salary                 2000 non-null   int64 \n",
      "dtypes: int64(4), object(5)\n",
      "memory usage: 140.8+ KB\n"
     ]
    }
   ],
   "source": [
    "test_features.info()"
   ]
  },
  {
   "cell_type": "markdown",
   "id": "3a2edff0",
   "metadata": {},
   "source": [
    "Просмотр первых строк"
   ]
  },
  {
   "cell_type": "code",
   "execution_count": 9,
   "id": "94fa593f",
   "metadata": {},
   "outputs": [
    {
     "data": {
      "text/html": [
       "<div>\n",
       "<style scoped>\n",
       "    .dataframe tbody tr th:only-of-type {\n",
       "        vertical-align: middle;\n",
       "    }\n",
       "\n",
       "    .dataframe tbody tr th {\n",
       "        vertical-align: top;\n",
       "    }\n",
       "\n",
       "    .dataframe thead th {\n",
       "        text-align: right;\n",
       "    }\n",
       "</style>\n",
       "<table border=\"1\" class=\"dataframe\">\n",
       "  <thead>\n",
       "    <tr style=\"text-align: right;\">\n",
       "      <th></th>\n",
       "      <th>id</th>\n",
       "      <th>dept</th>\n",
       "      <th>level</th>\n",
       "      <th>workload</th>\n",
       "      <th>employment_years</th>\n",
       "      <th>last_year_promo</th>\n",
       "      <th>last_year_violations</th>\n",
       "      <th>supervisor_evaluation</th>\n",
       "      <th>salary</th>\n",
       "    </tr>\n",
       "  </thead>\n",
       "  <tbody>\n",
       "    <tr>\n",
       "      <th>0</th>\n",
       "      <td>485046</td>\n",
       "      <td>marketing</td>\n",
       "      <td>junior</td>\n",
       "      <td>medium</td>\n",
       "      <td>2</td>\n",
       "      <td>no</td>\n",
       "      <td>no</td>\n",
       "      <td>5</td>\n",
       "      <td>28800</td>\n",
       "    </tr>\n",
       "    <tr>\n",
       "      <th>1</th>\n",
       "      <td>686555</td>\n",
       "      <td>hr</td>\n",
       "      <td>junior</td>\n",
       "      <td>medium</td>\n",
       "      <td>1</td>\n",
       "      <td>no</td>\n",
       "      <td>no</td>\n",
       "      <td>4</td>\n",
       "      <td>30000</td>\n",
       "    </tr>\n",
       "    <tr>\n",
       "      <th>2</th>\n",
       "      <td>467458</td>\n",
       "      <td>sales</td>\n",
       "      <td>middle</td>\n",
       "      <td>low</td>\n",
       "      <td>5</td>\n",
       "      <td>no</td>\n",
       "      <td>no</td>\n",
       "      <td>4</td>\n",
       "      <td>19200</td>\n",
       "    </tr>\n",
       "    <tr>\n",
       "      <th>3</th>\n",
       "      <td>418655</td>\n",
       "      <td>sales</td>\n",
       "      <td>middle</td>\n",
       "      <td>low</td>\n",
       "      <td>6</td>\n",
       "      <td>no</td>\n",
       "      <td>no</td>\n",
       "      <td>4</td>\n",
       "      <td>19200</td>\n",
       "    </tr>\n",
       "    <tr>\n",
       "      <th>4</th>\n",
       "      <td>789145</td>\n",
       "      <td>hr</td>\n",
       "      <td>middle</td>\n",
       "      <td>medium</td>\n",
       "      <td>5</td>\n",
       "      <td>no</td>\n",
       "      <td>no</td>\n",
       "      <td>5</td>\n",
       "      <td>40800</td>\n",
       "    </tr>\n",
       "  </tbody>\n",
       "</table>\n",
       "</div>"
      ],
      "text/plain": [
       "       id       dept   level workload  employment_years last_year_promo  \\\n",
       "0  485046  marketing  junior   medium                 2              no   \n",
       "1  686555         hr  junior   medium                 1              no   \n",
       "2  467458      sales  middle      low                 5              no   \n",
       "3  418655      sales  middle      low                 6              no   \n",
       "4  789145         hr  middle   medium                 5              no   \n",
       "\n",
       "  last_year_violations  supervisor_evaluation  salary  \n",
       "0                   no                      5   28800  \n",
       "1                   no                      4   30000  \n",
       "2                   no                      4   19200  \n",
       "3                   no                      4   19200  \n",
       "4                   no                      5   40800  "
      ]
     },
     "execution_count": 9,
     "metadata": {},
     "output_type": "execute_result"
    }
   ],
   "source": [
    "test_features.head()"
   ]
  },
  {
   "cell_type": "markdown",
   "id": "49434699",
   "metadata": {},
   "source": [
    "Количество пропусков в данных"
   ]
  },
  {
   "cell_type": "code",
   "execution_count": 26,
   "id": "1f880e78",
   "metadata": {},
   "outputs": [
    {
     "data": {
      "text/plain": [
       "id                       0\n",
       "dept                     2\n",
       "level                    1\n",
       "workload                 0\n",
       "employment_years         0\n",
       "last_year_promo          0\n",
       "last_year_violations     0\n",
       "supervisor_evaluation    0\n",
       "salary                   0\n",
       "dtype: int64"
      ]
     },
     "execution_count": 26,
     "metadata": {},
     "output_type": "execute_result"
    }
   ],
   "source": [
    "test_features.isnull().sum()"
   ]
  },
  {
   "cell_type": "markdown",
   "id": "841bae8b",
   "metadata": {},
   "source": [
    "Вывод строк с пропусками по столбцу 'dept'"
   ]
  },
  {
   "cell_type": "code",
   "execution_count": 12,
   "id": "f743c4d6",
   "metadata": {},
   "outputs": [
    {
     "data": {
      "text/html": [
       "<div>\n",
       "<style scoped>\n",
       "    .dataframe tbody tr th:only-of-type {\n",
       "        vertical-align: middle;\n",
       "    }\n",
       "\n",
       "    .dataframe tbody tr th {\n",
       "        vertical-align: top;\n",
       "    }\n",
       "\n",
       "    .dataframe thead th {\n",
       "        text-align: right;\n",
       "    }\n",
       "</style>\n",
       "<table border=\"1\" class=\"dataframe\">\n",
       "  <thead>\n",
       "    <tr style=\"text-align: right;\">\n",
       "      <th></th>\n",
       "      <th>id</th>\n",
       "      <th>dept</th>\n",
       "      <th>level</th>\n",
       "      <th>workload</th>\n",
       "      <th>employment_years</th>\n",
       "      <th>last_year_promo</th>\n",
       "      <th>last_year_violations</th>\n",
       "      <th>supervisor_evaluation</th>\n",
       "      <th>salary</th>\n",
       "    </tr>\n",
       "  </thead>\n",
       "  <tbody>\n",
       "    <tr>\n",
       "      <th>191</th>\n",
       "      <td>609865</td>\n",
       "      <td>NaN</td>\n",
       "      <td>junior</td>\n",
       "      <td>medium</td>\n",
       "      <td>1</td>\n",
       "      <td>no</td>\n",
       "      <td>no</td>\n",
       "      <td>1</td>\n",
       "      <td>20400</td>\n",
       "    </tr>\n",
       "    <tr>\n",
       "      <th>1196</th>\n",
       "      <td>832342</td>\n",
       "      <td>NaN</td>\n",
       "      <td>junior</td>\n",
       "      <td>medium</td>\n",
       "      <td>1</td>\n",
       "      <td>no</td>\n",
       "      <td>no</td>\n",
       "      <td>4</td>\n",
       "      <td>28800</td>\n",
       "    </tr>\n",
       "  </tbody>\n",
       "</table>\n",
       "</div>"
      ],
      "text/plain": [
       "          id dept   level workload  employment_years last_year_promo  \\\n",
       "191   609865  NaN  junior   medium                 1              no   \n",
       "1196  832342  NaN  junior   medium                 1              no   \n",
       "\n",
       "     last_year_violations  supervisor_evaluation  salary  \n",
       "191                    no                      1   20400  \n",
       "1196                   no                      4   28800  "
      ]
     },
     "execution_count": 12,
     "metadata": {},
     "output_type": "execute_result"
    }
   ],
   "source": [
    "test_features[test_features['dept'].isnull()]"
   ]
  },
  {
   "cell_type": "markdown",
   "id": "3ebf3020",
   "metadata": {},
   "source": [
    "Вывод строк с пропусками по столбцу 'level'"
   ]
  },
  {
   "cell_type": "code",
   "execution_count": 13,
   "id": "52002d82",
   "metadata": {},
   "outputs": [
    {
     "data": {
      "text/html": [
       "<div>\n",
       "<style scoped>\n",
       "    .dataframe tbody tr th:only-of-type {\n",
       "        vertical-align: middle;\n",
       "    }\n",
       "\n",
       "    .dataframe tbody tr th {\n",
       "        vertical-align: top;\n",
       "    }\n",
       "\n",
       "    .dataframe thead th {\n",
       "        text-align: right;\n",
       "    }\n",
       "</style>\n",
       "<table border=\"1\" class=\"dataframe\">\n",
       "  <thead>\n",
       "    <tr style=\"text-align: right;\">\n",
       "      <th></th>\n",
       "      <th>id</th>\n",
       "      <th>dept</th>\n",
       "      <th>level</th>\n",
       "      <th>workload</th>\n",
       "      <th>employment_years</th>\n",
       "      <th>last_year_promo</th>\n",
       "      <th>last_year_violations</th>\n",
       "      <th>supervisor_evaluation</th>\n",
       "      <th>salary</th>\n",
       "    </tr>\n",
       "  </thead>\n",
       "  <tbody>\n",
       "    <tr>\n",
       "      <th>312</th>\n",
       "      <td>471990</td>\n",
       "      <td>sales</td>\n",
       "      <td>NaN</td>\n",
       "      <td>low</td>\n",
       "      <td>1</td>\n",
       "      <td>no</td>\n",
       "      <td>no</td>\n",
       "      <td>3</td>\n",
       "      <td>12000</td>\n",
       "    </tr>\n",
       "  </tbody>\n",
       "</table>\n",
       "</div>"
      ],
      "text/plain": [
       "         id   dept level workload  employment_years last_year_promo  \\\n",
       "312  471990  sales   NaN      low                 1              no   \n",
       "\n",
       "    last_year_violations  supervisor_evaluation  salary  \n",
       "312                   no                      3   12000  "
      ]
     },
     "execution_count": 13,
     "metadata": {},
     "output_type": "execute_result"
    }
   ],
   "source": [
    "test_features[test_features['level'].isnull()]"
   ]
  },
  {
   "cell_type": "markdown",
   "id": "8eb98db2",
   "metadata": {},
   "source": [
    "Поиск явных дубликатов"
   ]
  },
  {
   "cell_type": "code",
   "execution_count": 14,
   "id": "5db39d5d",
   "metadata": {},
   "outputs": [
    {
     "data": {
      "text/plain": [
       "0"
      ]
     },
     "execution_count": 14,
     "metadata": {},
     "output_type": "execute_result"
    }
   ],
   "source": [
    "test_features.duplicated().sum()"
   ]
  },
  {
   "cell_type": "markdown",
   "id": "4f9a7ef4",
   "metadata": {},
   "source": [
    "Поиск неявных дубликатов плюс создание списка с категориальными признаками для дальнейшего анализа"
   ]
  },
  {
   "cell_type": "code",
   "execution_count": 89,
   "id": "a1ccbb75",
   "metadata": {},
   "outputs": [
    {
     "name": "stdout",
     "output_type": "stream",
     "text": [
      "dept ['marketing' 'hr' 'sales' 'purchasing' 'technology' nan]\n",
      "level ['junior' 'middle' 'sinior' nan]\n",
      "workload ['medium' 'low' 'high' nan]\n",
      "last_year_promo ['no' 'yes']\n",
      "last_year_violations ['no' 'yes']\n"
     ]
    }
   ],
   "source": [
    "test_features_categor=[]\n",
    "for column in test_features.select_dtypes(include=['object']):\n",
    "    print(column, test_features[column].unique())\n",
    "    test_features_categor.append(column)"
   ]
  },
  {
   "cell_type": "markdown",
   "id": "6371a731",
   "metadata": {},
   "source": [
    "Обнаружены аномальные значение в столбцах 'workload' и 'dept' . Выведем их"
   ]
  },
  {
   "cell_type": "code",
   "execution_count": 18,
   "id": "ec5318a9",
   "metadata": {},
   "outputs": [
    {
     "data": {
      "text/html": [
       "<div>\n",
       "<style scoped>\n",
       "    .dataframe tbody tr th:only-of-type {\n",
       "        vertical-align: middle;\n",
       "    }\n",
       "\n",
       "    .dataframe tbody tr th {\n",
       "        vertical-align: top;\n",
       "    }\n",
       "\n",
       "    .dataframe thead th {\n",
       "        text-align: right;\n",
       "    }\n",
       "</style>\n",
       "<table border=\"1\" class=\"dataframe\">\n",
       "  <thead>\n",
       "    <tr style=\"text-align: right;\">\n",
       "      <th></th>\n",
       "      <th>id</th>\n",
       "      <th>dept</th>\n",
       "      <th>level</th>\n",
       "      <th>workload</th>\n",
       "      <th>employment_years</th>\n",
       "      <th>last_year_promo</th>\n",
       "      <th>last_year_violations</th>\n",
       "      <th>supervisor_evaluation</th>\n",
       "      <th>salary</th>\n",
       "    </tr>\n",
       "  </thead>\n",
       "  <tbody>\n",
       "    <tr>\n",
       "      <th>15</th>\n",
       "      <td>590867</td>\n",
       "      <td>marketing</td>\n",
       "      <td>junior</td>\n",
       "      <td></td>\n",
       "      <td>4</td>\n",
       "      <td>no</td>\n",
       "      <td>no</td>\n",
       "      <td>4</td>\n",
       "      <td>28800</td>\n",
       "    </tr>\n",
       "  </tbody>\n",
       "</table>\n",
       "</div>"
      ],
      "text/plain": [
       "        id       dept   level workload  employment_years last_year_promo  \\\n",
       "15  590867  marketing  junior                          4              no   \n",
       "\n",
       "   last_year_violations  supervisor_evaluation  salary  \n",
       "15                   no                      4   28800  "
      ]
     },
     "execution_count": 18,
     "metadata": {},
     "output_type": "execute_result"
    }
   ],
   "source": [
    "test_features[test_features['workload']==' ']"
   ]
  },
  {
   "cell_type": "code",
   "execution_count": 19,
   "id": "cbef8a0e",
   "metadata": {},
   "outputs": [
    {
     "data": {
      "text/html": [
       "<div>\n",
       "<style scoped>\n",
       "    .dataframe tbody tr th:only-of-type {\n",
       "        vertical-align: middle;\n",
       "    }\n",
       "\n",
       "    .dataframe tbody tr th {\n",
       "        vertical-align: top;\n",
       "    }\n",
       "\n",
       "    .dataframe thead th {\n",
       "        text-align: right;\n",
       "    }\n",
       "</style>\n",
       "<table border=\"1\" class=\"dataframe\">\n",
       "  <thead>\n",
       "    <tr style=\"text-align: right;\">\n",
       "      <th></th>\n",
       "      <th>id</th>\n",
       "      <th>dept</th>\n",
       "      <th>level</th>\n",
       "      <th>workload</th>\n",
       "      <th>employment_years</th>\n",
       "      <th>last_year_promo</th>\n",
       "      <th>last_year_violations</th>\n",
       "      <th>supervisor_evaluation</th>\n",
       "      <th>salary</th>\n",
       "    </tr>\n",
       "  </thead>\n",
       "  <tbody>\n",
       "    <tr>\n",
       "      <th>1699</th>\n",
       "      <td>822186</td>\n",
       "      <td></td>\n",
       "      <td>middle</td>\n",
       "      <td>medium</td>\n",
       "      <td>3</td>\n",
       "      <td>no</td>\n",
       "      <td>no</td>\n",
       "      <td>4</td>\n",
       "      <td>38400</td>\n",
       "    </tr>\n",
       "  </tbody>\n",
       "</table>\n",
       "</div>"
      ],
      "text/plain": [
       "          id dept   level workload  employment_years last_year_promo  \\\n",
       "1699  822186       middle   medium                 3              no   \n",
       "\n",
       "     last_year_violations  supervisor_evaluation  salary  \n",
       "1699                   no                      4   38400  "
      ]
     },
     "execution_count": 19,
     "metadata": {},
     "output_type": "execute_result"
    }
   ],
   "source": [
    "test_features[test_features['dept']==' ']"
   ]
  },
  {
   "cell_type": "markdown",
   "id": "f2b5a090",
   "metadata": {},
   "source": [
    "Замена всех пробелов на nan"
   ]
  },
  {
   "cell_type": "code",
   "execution_count": 85,
   "id": "32c34f8f",
   "metadata": {},
   "outputs": [],
   "source": [
    "test_features=test_features.replace(r'^\\s*$', np.nan, regex=True)"
   ]
  },
  {
   "cell_type": "markdown",
   "id": "3622e507",
   "metadata": {},
   "source": [
    "Проверка результатов"
   ]
  },
  {
   "cell_type": "code",
   "execution_count": 86,
   "id": "43820318",
   "metadata": {},
   "outputs": [
    {
     "data": {
      "text/html": [
       "<div>\n",
       "<style scoped>\n",
       "    .dataframe tbody tr th:only-of-type {\n",
       "        vertical-align: middle;\n",
       "    }\n",
       "\n",
       "    .dataframe tbody tr th {\n",
       "        vertical-align: top;\n",
       "    }\n",
       "\n",
       "    .dataframe thead th {\n",
       "        text-align: right;\n",
       "    }\n",
       "</style>\n",
       "<table border=\"1\" class=\"dataframe\">\n",
       "  <thead>\n",
       "    <tr style=\"text-align: right;\">\n",
       "      <th></th>\n",
       "      <th>id</th>\n",
       "      <th>dept</th>\n",
       "      <th>level</th>\n",
       "      <th>workload</th>\n",
       "      <th>employment_years</th>\n",
       "      <th>last_year_promo</th>\n",
       "      <th>last_year_violations</th>\n",
       "      <th>supervisor_evaluation</th>\n",
       "      <th>salary</th>\n",
       "    </tr>\n",
       "  </thead>\n",
       "  <tbody>\n",
       "  </tbody>\n",
       "</table>\n",
       "</div>"
      ],
      "text/plain": [
       "Empty DataFrame\n",
       "Columns: [id, dept, level, workload, employment_years, last_year_promo, last_year_violations, supervisor_evaluation, salary]\n",
       "Index: []"
      ]
     },
     "execution_count": 86,
     "metadata": {},
     "output_type": "execute_result"
    }
   ],
   "source": [
    "test_features[test_features['dept']==' ']"
   ]
  },
  {
   "cell_type": "code",
   "execution_count": 87,
   "id": "13ada56f",
   "metadata": {},
   "outputs": [
    {
     "data": {
      "text/html": [
       "<div>\n",
       "<style scoped>\n",
       "    .dataframe tbody tr th:only-of-type {\n",
       "        vertical-align: middle;\n",
       "    }\n",
       "\n",
       "    .dataframe tbody tr th {\n",
       "        vertical-align: top;\n",
       "    }\n",
       "\n",
       "    .dataframe thead th {\n",
       "        text-align: right;\n",
       "    }\n",
       "</style>\n",
       "<table border=\"1\" class=\"dataframe\">\n",
       "  <thead>\n",
       "    <tr style=\"text-align: right;\">\n",
       "      <th></th>\n",
       "      <th>id</th>\n",
       "      <th>dept</th>\n",
       "      <th>level</th>\n",
       "      <th>workload</th>\n",
       "      <th>employment_years</th>\n",
       "      <th>last_year_promo</th>\n",
       "      <th>last_year_violations</th>\n",
       "      <th>supervisor_evaluation</th>\n",
       "      <th>salary</th>\n",
       "    </tr>\n",
       "  </thead>\n",
       "  <tbody>\n",
       "  </tbody>\n",
       "</table>\n",
       "</div>"
      ],
      "text/plain": [
       "Empty DataFrame\n",
       "Columns: [id, dept, level, workload, employment_years, last_year_promo, last_year_violations, supervisor_evaluation, salary]\n",
       "Index: []"
      ]
     },
     "execution_count": 87,
     "metadata": {},
     "output_type": "execute_result"
    }
   ],
   "source": [
    "test_features[test_features['workload']==' ']"
   ]
  },
  {
   "cell_type": "code",
   "execution_count": 90,
   "id": "536b263e",
   "metadata": {},
   "outputs": [
    {
     "data": {
      "text/plain": [
       "id                       0\n",
       "dept                     3\n",
       "level                    1\n",
       "workload                 1\n",
       "employment_years         0\n",
       "last_year_promo          0\n",
       "last_year_violations     0\n",
       "supervisor_evaluation    0\n",
       "salary                   0\n",
       "dtype: int64"
      ]
     },
     "execution_count": 90,
     "metadata": {},
     "output_type": "execute_result"
    }
   ],
   "source": [
    "test_features.isnull().sum()"
   ]
  },
  {
   "cell_type": "markdown",
   "id": "287748f4",
   "metadata": {},
   "source": [
    "## test_target_job_satisfaction_rate"
   ]
  },
  {
   "cell_type": "markdown",
   "id": "d43c282b",
   "metadata": {},
   "source": [
    "Информация о датафрейме"
   ]
  },
  {
   "cell_type": "code",
   "execution_count": 20,
   "id": "d221a455",
   "metadata": {},
   "outputs": [
    {
     "name": "stdout",
     "output_type": "stream",
     "text": [
      "<class 'pandas.core.frame.DataFrame'>\n",
      "RangeIndex: 2000 entries, 0 to 1999\n",
      "Data columns (total 2 columns):\n",
      " #   Column                 Non-Null Count  Dtype  \n",
      "---  ------                 --------------  -----  \n",
      " 0   id                     2000 non-null   int64  \n",
      " 1   job_satisfaction_rate  2000 non-null   float64\n",
      "dtypes: float64(1), int64(1)\n",
      "memory usage: 31.4 KB\n"
     ]
    }
   ],
   "source": [
    "test_target_job_satisfaction_rate.info()"
   ]
  },
  {
   "cell_type": "markdown",
   "id": "f434a85f",
   "metadata": {},
   "source": [
    "Просмотр первых строк "
   ]
  },
  {
   "cell_type": "code",
   "execution_count": 49,
   "id": "0d694845",
   "metadata": {},
   "outputs": [
    {
     "data": {
      "text/html": [
       "<div>\n",
       "<style scoped>\n",
       "    .dataframe tbody tr th:only-of-type {\n",
       "        vertical-align: middle;\n",
       "    }\n",
       "\n",
       "    .dataframe tbody tr th {\n",
       "        vertical-align: top;\n",
       "    }\n",
       "\n",
       "    .dataframe thead th {\n",
       "        text-align: right;\n",
       "    }\n",
       "</style>\n",
       "<table border=\"1\" class=\"dataframe\">\n",
       "  <thead>\n",
       "    <tr style=\"text-align: right;\">\n",
       "      <th></th>\n",
       "      <th>id</th>\n",
       "      <th>job_satisfaction_rate</th>\n",
       "    </tr>\n",
       "  </thead>\n",
       "  <tbody>\n",
       "    <tr>\n",
       "      <th>0</th>\n",
       "      <td>130604</td>\n",
       "      <td>0.74</td>\n",
       "    </tr>\n",
       "    <tr>\n",
       "      <th>1</th>\n",
       "      <td>825977</td>\n",
       "      <td>0.75</td>\n",
       "    </tr>\n",
       "    <tr>\n",
       "      <th>2</th>\n",
       "      <td>418490</td>\n",
       "      <td>0.60</td>\n",
       "    </tr>\n",
       "    <tr>\n",
       "      <th>3</th>\n",
       "      <td>555320</td>\n",
       "      <td>0.72</td>\n",
       "    </tr>\n",
       "    <tr>\n",
       "      <th>4</th>\n",
       "      <td>826430</td>\n",
       "      <td>0.08</td>\n",
       "    </tr>\n",
       "  </tbody>\n",
       "</table>\n",
       "</div>"
      ],
      "text/plain": [
       "       id  job_satisfaction_rate\n",
       "0  130604                   0.74\n",
       "1  825977                   0.75\n",
       "2  418490                   0.60\n",
       "3  555320                   0.72\n",
       "4  826430                   0.08"
      ]
     },
     "execution_count": 49,
     "metadata": {},
     "output_type": "execute_result"
    }
   ],
   "source": [
    "test_target_job_satisfaction_rate.head()"
   ]
  },
  {
   "cell_type": "markdown",
   "id": "25626ea7",
   "metadata": {},
   "source": [
    "Поиск пропусков"
   ]
  },
  {
   "cell_type": "code",
   "execution_count": 25,
   "id": "bbe7a9d2",
   "metadata": {},
   "outputs": [
    {
     "data": {
      "text/plain": [
       "id                       0\n",
       "job_satisfaction_rate    0\n",
       "dtype: int64"
      ]
     },
     "execution_count": 25,
     "metadata": {},
     "output_type": "execute_result"
    }
   ],
   "source": [
    "test_target_job_satisfaction_rate.isnull().sum()"
   ]
  },
  {
   "cell_type": "markdown",
   "id": "b9c83427",
   "metadata": {},
   "source": [
    "Поиск дубликатов"
   ]
  },
  {
   "cell_type": "code",
   "execution_count": 27,
   "id": "80fe174e",
   "metadata": {},
   "outputs": [
    {
     "data": {
      "text/plain": [
       "0"
      ]
     },
     "execution_count": 27,
     "metadata": {},
     "output_type": "execute_result"
    }
   ],
   "source": [
    "test_target_job_satisfaction_rate.duplicated().sum()"
   ]
  },
  {
   "cell_type": "markdown",
   "id": "14ab10de",
   "metadata": {},
   "source": [
    "## test_target_quit"
   ]
  },
  {
   "cell_type": "markdown",
   "id": "69c0ac72",
   "metadata": {},
   "source": [
    "Информация о датафрейме"
   ]
  },
  {
   "cell_type": "code",
   "execution_count": 28,
   "id": "065e14a9",
   "metadata": {},
   "outputs": [
    {
     "name": "stdout",
     "output_type": "stream",
     "text": [
      "<class 'pandas.core.frame.DataFrame'>\n",
      "RangeIndex: 2000 entries, 0 to 1999\n",
      "Data columns (total 2 columns):\n",
      " #   Column  Non-Null Count  Dtype \n",
      "---  ------  --------------  ----- \n",
      " 0   id      2000 non-null   int64 \n",
      " 1   quit    2000 non-null   object\n",
      "dtypes: int64(1), object(1)\n",
      "memory usage: 31.4+ KB\n"
     ]
    }
   ],
   "source": [
    "test_target_quit.info()"
   ]
  },
  {
   "cell_type": "markdown",
   "id": "dd5fcbb4",
   "metadata": {},
   "source": [
    "Просмотр первых строк "
   ]
  },
  {
   "cell_type": "code",
   "execution_count": 45,
   "id": "6a8ecddc",
   "metadata": {},
   "outputs": [
    {
     "data": {
      "text/html": [
       "<div>\n",
       "<style scoped>\n",
       "    .dataframe tbody tr th:only-of-type {\n",
       "        vertical-align: middle;\n",
       "    }\n",
       "\n",
       "    .dataframe tbody tr th {\n",
       "        vertical-align: top;\n",
       "    }\n",
       "\n",
       "    .dataframe thead th {\n",
       "        text-align: right;\n",
       "    }\n",
       "</style>\n",
       "<table border=\"1\" class=\"dataframe\">\n",
       "  <thead>\n",
       "    <tr style=\"text-align: right;\">\n",
       "      <th></th>\n",
       "      <th>id</th>\n",
       "      <th>quit</th>\n",
       "    </tr>\n",
       "  </thead>\n",
       "  <tbody>\n",
       "    <tr>\n",
       "      <th>0</th>\n",
       "      <td>999029</td>\n",
       "      <td>yes</td>\n",
       "    </tr>\n",
       "    <tr>\n",
       "      <th>1</th>\n",
       "      <td>372846</td>\n",
       "      <td>no</td>\n",
       "    </tr>\n",
       "    <tr>\n",
       "      <th>2</th>\n",
       "      <td>726767</td>\n",
       "      <td>no</td>\n",
       "    </tr>\n",
       "    <tr>\n",
       "      <th>3</th>\n",
       "      <td>490105</td>\n",
       "      <td>no</td>\n",
       "    </tr>\n",
       "    <tr>\n",
       "      <th>4</th>\n",
       "      <td>416898</td>\n",
       "      <td>yes</td>\n",
       "    </tr>\n",
       "  </tbody>\n",
       "</table>\n",
       "</div>"
      ],
      "text/plain": [
       "       id quit\n",
       "0  999029  yes\n",
       "1  372846   no\n",
       "2  726767   no\n",
       "3  490105   no\n",
       "4  416898  yes"
      ]
     },
     "execution_count": 45,
     "metadata": {},
     "output_type": "execute_result"
    }
   ],
   "source": [
    "test_target_quit.head()"
   ]
  },
  {
   "cell_type": "markdown",
   "id": "bc88c75f",
   "metadata": {},
   "source": [
    "Поиск пропусков"
   ]
  },
  {
   "cell_type": "code",
   "execution_count": 29,
   "id": "67c3a319",
   "metadata": {},
   "outputs": [
    {
     "data": {
      "text/plain": [
       "id      0\n",
       "quit    0\n",
       "dtype: int64"
      ]
     },
     "execution_count": 29,
     "metadata": {},
     "output_type": "execute_result"
    }
   ],
   "source": [
    "test_target_quit.isnull().sum()"
   ]
  },
  {
   "cell_type": "markdown",
   "id": "775f1008",
   "metadata": {},
   "source": [
    "Поиск дубликатов"
   ]
  },
  {
   "cell_type": "code",
   "execution_count": 30,
   "id": "9404eefe",
   "metadata": {},
   "outputs": [
    {
     "data": {
      "text/plain": [
       "0"
      ]
     },
     "execution_count": 30,
     "metadata": {},
     "output_type": "execute_result"
    }
   ],
   "source": [
    "test_target_quit.duplicated().sum()"
   ]
  },
  {
   "cell_type": "markdown",
   "id": "9ed1f154",
   "metadata": {},
   "source": [
    "Проверка на случай неявных дубликатов"
   ]
  },
  {
   "cell_type": "code",
   "execution_count": 31,
   "id": "cb80855c",
   "metadata": {},
   "outputs": [
    {
     "data": {
      "text/plain": [
       "array(['yes', 'no'], dtype=object)"
      ]
     },
     "execution_count": 31,
     "metadata": {},
     "output_type": "execute_result"
    }
   ],
   "source": [
    "test_target_quit['quit'].unique()"
   ]
  },
  {
   "cell_type": "markdown",
   "id": "18fba7a1",
   "metadata": {},
   "source": [
    "## train_job_satisfaction_rate"
   ]
  },
  {
   "cell_type": "markdown",
   "id": "42a084bd",
   "metadata": {},
   "source": [
    "Информация о датафрейме"
   ]
  },
  {
   "cell_type": "code",
   "execution_count": 32,
   "id": "6e6aea31",
   "metadata": {},
   "outputs": [
    {
     "name": "stdout",
     "output_type": "stream",
     "text": [
      "<class 'pandas.core.frame.DataFrame'>\n",
      "RangeIndex: 4000 entries, 0 to 3999\n",
      "Data columns (total 10 columns):\n",
      " #   Column                 Non-Null Count  Dtype  \n",
      "---  ------                 --------------  -----  \n",
      " 0   id                     4000 non-null   int64  \n",
      " 1   dept                   3994 non-null   object \n",
      " 2   level                  3996 non-null   object \n",
      " 3   workload               4000 non-null   object \n",
      " 4   employment_years       4000 non-null   int64  \n",
      " 5   last_year_promo        4000 non-null   object \n",
      " 6   last_year_violations   4000 non-null   object \n",
      " 7   supervisor_evaluation  4000 non-null   int64  \n",
      " 8   salary                 4000 non-null   int64  \n",
      " 9   job_satisfaction_rate  4000 non-null   float64\n",
      "dtypes: float64(1), int64(4), object(5)\n",
      "memory usage: 312.6+ KB\n"
     ]
    }
   ],
   "source": [
    "train_job_satisfaction_rate.info()"
   ]
  },
  {
   "cell_type": "markdown",
   "id": "7de11cbf",
   "metadata": {},
   "source": [
    "Просмотр первых строк"
   ]
  },
  {
   "cell_type": "code",
   "execution_count": 46,
   "id": "9c53251b",
   "metadata": {},
   "outputs": [
    {
     "data": {
      "text/html": [
       "<div>\n",
       "<style scoped>\n",
       "    .dataframe tbody tr th:only-of-type {\n",
       "        vertical-align: middle;\n",
       "    }\n",
       "\n",
       "    .dataframe tbody tr th {\n",
       "        vertical-align: top;\n",
       "    }\n",
       "\n",
       "    .dataframe thead th {\n",
       "        text-align: right;\n",
       "    }\n",
       "</style>\n",
       "<table border=\"1\" class=\"dataframe\">\n",
       "  <thead>\n",
       "    <tr style=\"text-align: right;\">\n",
       "      <th></th>\n",
       "      <th>id</th>\n",
       "      <th>quit</th>\n",
       "    </tr>\n",
       "  </thead>\n",
       "  <tbody>\n",
       "    <tr>\n",
       "      <th>0</th>\n",
       "      <td>999029</td>\n",
       "      <td>yes</td>\n",
       "    </tr>\n",
       "    <tr>\n",
       "      <th>1</th>\n",
       "      <td>372846</td>\n",
       "      <td>no</td>\n",
       "    </tr>\n",
       "    <tr>\n",
       "      <th>2</th>\n",
       "      <td>726767</td>\n",
       "      <td>no</td>\n",
       "    </tr>\n",
       "    <tr>\n",
       "      <th>3</th>\n",
       "      <td>490105</td>\n",
       "      <td>no</td>\n",
       "    </tr>\n",
       "    <tr>\n",
       "      <th>4</th>\n",
       "      <td>416898</td>\n",
       "      <td>yes</td>\n",
       "    </tr>\n",
       "  </tbody>\n",
       "</table>\n",
       "</div>"
      ],
      "text/plain": [
       "       id quit\n",
       "0  999029  yes\n",
       "1  372846   no\n",
       "2  726767   no\n",
       "3  490105   no\n",
       "4  416898  yes"
      ]
     },
     "execution_count": 46,
     "metadata": {},
     "output_type": "execute_result"
    }
   ],
   "source": [
    "test_target_quit.head()"
   ]
  },
  {
   "cell_type": "markdown",
   "id": "68d3dd57",
   "metadata": {},
   "source": [
    "Поиск пропусков"
   ]
  },
  {
   "cell_type": "code",
   "execution_count": 33,
   "id": "73bc729c",
   "metadata": {},
   "outputs": [
    {
     "data": {
      "text/plain": [
       "id                       0\n",
       "dept                     6\n",
       "level                    4\n",
       "workload                 0\n",
       "employment_years         0\n",
       "last_year_promo          0\n",
       "last_year_violations     0\n",
       "supervisor_evaluation    0\n",
       "salary                   0\n",
       "job_satisfaction_rate    0\n",
       "dtype: int64"
      ]
     },
     "execution_count": 33,
     "metadata": {},
     "output_type": "execute_result"
    }
   ],
   "source": [
    "train_job_satisfaction_rate.isnull().sum()"
   ]
  },
  {
   "cell_type": "markdown",
   "id": "aee6a96e",
   "metadata": {},
   "source": [
    "Вывод строк с пропусками по столбикам 'dept' и 'level'"
   ]
  },
  {
   "cell_type": "code",
   "execution_count": 35,
   "id": "28257d89",
   "metadata": {},
   "outputs": [
    {
     "data": {
      "text/html": [
       "<div>\n",
       "<style scoped>\n",
       "    .dataframe tbody tr th:only-of-type {\n",
       "        vertical-align: middle;\n",
       "    }\n",
       "\n",
       "    .dataframe tbody tr th {\n",
       "        vertical-align: top;\n",
       "    }\n",
       "\n",
       "    .dataframe thead th {\n",
       "        text-align: right;\n",
       "    }\n",
       "</style>\n",
       "<table border=\"1\" class=\"dataframe\">\n",
       "  <thead>\n",
       "    <tr style=\"text-align: right;\">\n",
       "      <th></th>\n",
       "      <th>id</th>\n",
       "      <th>dept</th>\n",
       "      <th>level</th>\n",
       "      <th>workload</th>\n",
       "      <th>employment_years</th>\n",
       "      <th>last_year_promo</th>\n",
       "      <th>last_year_violations</th>\n",
       "      <th>supervisor_evaluation</th>\n",
       "      <th>salary</th>\n",
       "      <th>job_satisfaction_rate</th>\n",
       "    </tr>\n",
       "  </thead>\n",
       "  <tbody>\n",
       "    <tr>\n",
       "      <th>1526</th>\n",
       "      <td>694746</td>\n",
       "      <td>NaN</td>\n",
       "      <td>junior</td>\n",
       "      <td>medium</td>\n",
       "      <td>5</td>\n",
       "      <td>no</td>\n",
       "      <td>no</td>\n",
       "      <td>4</td>\n",
       "      <td>21600</td>\n",
       "      <td>0.62</td>\n",
       "    </tr>\n",
       "    <tr>\n",
       "      <th>1630</th>\n",
       "      <td>814624</td>\n",
       "      <td>NaN</td>\n",
       "      <td>junior</td>\n",
       "      <td>medium</td>\n",
       "      <td>3</td>\n",
       "      <td>no</td>\n",
       "      <td>no</td>\n",
       "      <td>4</td>\n",
       "      <td>24000</td>\n",
       "      <td>0.88</td>\n",
       "    </tr>\n",
       "    <tr>\n",
       "      <th>1633</th>\n",
       "      <td>475114</td>\n",
       "      <td>NaN</td>\n",
       "      <td>junior</td>\n",
       "      <td>high</td>\n",
       "      <td>4</td>\n",
       "      <td>no</td>\n",
       "      <td>no</td>\n",
       "      <td>4</td>\n",
       "      <td>31200</td>\n",
       "      <td>0.63</td>\n",
       "    </tr>\n",
       "    <tr>\n",
       "      <th>2781</th>\n",
       "      <td>497243</td>\n",
       "      <td>NaN</td>\n",
       "      <td>junior</td>\n",
       "      <td>medium</td>\n",
       "      <td>1</td>\n",
       "      <td>no</td>\n",
       "      <td>no</td>\n",
       "      <td>3</td>\n",
       "      <td>26400</td>\n",
       "      <td>0.28</td>\n",
       "    </tr>\n",
       "    <tr>\n",
       "      <th>2975</th>\n",
       "      <td>168668</td>\n",
       "      <td>NaN</td>\n",
       "      <td>junior</td>\n",
       "      <td>low</td>\n",
       "      <td>3</td>\n",
       "      <td>no</td>\n",
       "      <td>no</td>\n",
       "      <td>4</td>\n",
       "      <td>18000</td>\n",
       "      <td>0.88</td>\n",
       "    </tr>\n",
       "    <tr>\n",
       "      <th>3866</th>\n",
       "      <td>641150</td>\n",
       "      <td>NaN</td>\n",
       "      <td>junior</td>\n",
       "      <td>low</td>\n",
       "      <td>3</td>\n",
       "      <td>no</td>\n",
       "      <td>yes</td>\n",
       "      <td>4</td>\n",
       "      <td>12000</td>\n",
       "      <td>0.54</td>\n",
       "    </tr>\n",
       "  </tbody>\n",
       "</table>\n",
       "</div>"
      ],
      "text/plain": [
       "          id dept   level workload  employment_years last_year_promo  \\\n",
       "1526  694746  NaN  junior   medium                 5              no   \n",
       "1630  814624  NaN  junior   medium                 3              no   \n",
       "1633  475114  NaN  junior     high                 4              no   \n",
       "2781  497243  NaN  junior   medium                 1              no   \n",
       "2975  168668  NaN  junior      low                 3              no   \n",
       "3866  641150  NaN  junior      low                 3              no   \n",
       "\n",
       "     last_year_violations  supervisor_evaluation  salary  \\\n",
       "1526                   no                      4   21600   \n",
       "1630                   no                      4   24000   \n",
       "1633                   no                      4   31200   \n",
       "2781                   no                      3   26400   \n",
       "2975                   no                      4   18000   \n",
       "3866                  yes                      4   12000   \n",
       "\n",
       "      job_satisfaction_rate  \n",
       "1526                   0.62  \n",
       "1630                   0.88  \n",
       "1633                   0.63  \n",
       "2781                   0.28  \n",
       "2975                   0.88  \n",
       "3866                   0.54  "
      ]
     },
     "execution_count": 35,
     "metadata": {},
     "output_type": "execute_result"
    }
   ],
   "source": [
    "train_job_satisfaction_rate[train_job_satisfaction_rate['dept'].isnull()]"
   ]
  },
  {
   "cell_type": "code",
   "execution_count": 36,
   "id": "7cb21382",
   "metadata": {},
   "outputs": [
    {
     "data": {
      "text/html": [
       "<div>\n",
       "<style scoped>\n",
       "    .dataframe tbody tr th:only-of-type {\n",
       "        vertical-align: middle;\n",
       "    }\n",
       "\n",
       "    .dataframe tbody tr th {\n",
       "        vertical-align: top;\n",
       "    }\n",
       "\n",
       "    .dataframe thead th {\n",
       "        text-align: right;\n",
       "    }\n",
       "</style>\n",
       "<table border=\"1\" class=\"dataframe\">\n",
       "  <thead>\n",
       "    <tr style=\"text-align: right;\">\n",
       "      <th></th>\n",
       "      <th>id</th>\n",
       "      <th>dept</th>\n",
       "      <th>level</th>\n",
       "      <th>workload</th>\n",
       "      <th>employment_years</th>\n",
       "      <th>last_year_promo</th>\n",
       "      <th>last_year_violations</th>\n",
       "      <th>supervisor_evaluation</th>\n",
       "      <th>salary</th>\n",
       "      <th>job_satisfaction_rate</th>\n",
       "    </tr>\n",
       "  </thead>\n",
       "  <tbody>\n",
       "    <tr>\n",
       "      <th>1209</th>\n",
       "      <td>631073</td>\n",
       "      <td>sales</td>\n",
       "      <td>NaN</td>\n",
       "      <td>medium</td>\n",
       "      <td>1</td>\n",
       "      <td>no</td>\n",
       "      <td>no</td>\n",
       "      <td>4</td>\n",
       "      <td>27600</td>\n",
       "      <td>0.66</td>\n",
       "    </tr>\n",
       "    <tr>\n",
       "      <th>1469</th>\n",
       "      <td>416327</td>\n",
       "      <td>sales</td>\n",
       "      <td>NaN</td>\n",
       "      <td>low</td>\n",
       "      <td>1</td>\n",
       "      <td>no</td>\n",
       "      <td>no</td>\n",
       "      <td>5</td>\n",
       "      <td>18000</td>\n",
       "      <td>0.73</td>\n",
       "    </tr>\n",
       "    <tr>\n",
       "      <th>1745</th>\n",
       "      <td>135043</td>\n",
       "      <td>sales</td>\n",
       "      <td>NaN</td>\n",
       "      <td>medium</td>\n",
       "      <td>1</td>\n",
       "      <td>no</td>\n",
       "      <td>no</td>\n",
       "      <td>3</td>\n",
       "      <td>26400</td>\n",
       "      <td>0.30</td>\n",
       "    </tr>\n",
       "    <tr>\n",
       "      <th>2522</th>\n",
       "      <td>998838</td>\n",
       "      <td>sales</td>\n",
       "      <td>NaN</td>\n",
       "      <td>medium</td>\n",
       "      <td>1</td>\n",
       "      <td>no</td>\n",
       "      <td>no</td>\n",
       "      <td>5</td>\n",
       "      <td>27600</td>\n",
       "      <td>0.71</td>\n",
       "    </tr>\n",
       "  </tbody>\n",
       "</table>\n",
       "</div>"
      ],
      "text/plain": [
       "          id   dept level workload  employment_years last_year_promo  \\\n",
       "1209  631073  sales   NaN   medium                 1              no   \n",
       "1469  416327  sales   NaN      low                 1              no   \n",
       "1745  135043  sales   NaN   medium                 1              no   \n",
       "2522  998838  sales   NaN   medium                 1              no   \n",
       "\n",
       "     last_year_violations  supervisor_evaluation  salary  \\\n",
       "1209                   no                      4   27600   \n",
       "1469                   no                      5   18000   \n",
       "1745                   no                      3   26400   \n",
       "2522                   no                      5   27600   \n",
       "\n",
       "      job_satisfaction_rate  \n",
       "1209                   0.66  \n",
       "1469                   0.73  \n",
       "1745                   0.30  \n",
       "2522                   0.71  "
      ]
     },
     "execution_count": 36,
     "metadata": {},
     "output_type": "execute_result"
    }
   ],
   "source": [
    "train_job_satisfaction_rate[train_job_satisfaction_rate['level'].isnull()]"
   ]
  },
  {
   "cell_type": "markdown",
   "id": "e9de87c4",
   "metadata": {},
   "source": [
    "Поиск дубликатов"
   ]
  },
  {
   "cell_type": "code",
   "execution_count": 37,
   "id": "a0e432ec",
   "metadata": {},
   "outputs": [
    {
     "data": {
      "text/plain": [
       "0"
      ]
     },
     "execution_count": 37,
     "metadata": {},
     "output_type": "execute_result"
    }
   ],
   "source": [
    "train_job_satisfaction_rate.duplicated().sum()"
   ]
  },
  {
   "cell_type": "markdown",
   "id": "2da3043f",
   "metadata": {},
   "source": [
    "Поиск неявных дубликатов плюс создание списка категориальных признаков для дальнейшего анализа"
   ]
  },
  {
   "cell_type": "code",
   "execution_count": 77,
   "id": "cd8380a7",
   "metadata": {},
   "outputs": [
    {
     "name": "stdout",
     "output_type": "stream",
     "text": [
      "dept ['sales' 'hr' 'technology' 'purchasing' 'marketing' nan]\n",
      "level ['junior' 'middle' 'sinior' nan]\n",
      "workload ['medium' 'high' 'low']\n",
      "last_year_promo ['no' 'yes']\n",
      "last_year_violations ['no' 'yes']\n"
     ]
    }
   ],
   "source": [
    "train_job_satisfaction_rate_categor=[]\n",
    "for column in train_job_satisfaction_rate.select_dtypes(include=['object']):\n",
    "    print(column, train_job_satisfaction_rate[column].unique())\n",
    "    train_job_satisfaction_rate_categor.append(column)"
   ]
  },
  {
   "cell_type": "markdown",
   "id": "444a2c80",
   "metadata": {},
   "source": [
    "## train_quit"
   ]
  },
  {
   "cell_type": "markdown",
   "id": "8e695837",
   "metadata": {},
   "source": [
    "Просмотр информации о датафрейме"
   ]
  },
  {
   "cell_type": "code",
   "execution_count": 39,
   "id": "111e4fa4",
   "metadata": {},
   "outputs": [
    {
     "name": "stdout",
     "output_type": "stream",
     "text": [
      "<class 'pandas.core.frame.DataFrame'>\n",
      "RangeIndex: 4000 entries, 0 to 3999\n",
      "Data columns (total 10 columns):\n",
      " #   Column                 Non-Null Count  Dtype \n",
      "---  ------                 --------------  ----- \n",
      " 0   id                     4000 non-null   int64 \n",
      " 1   dept                   4000 non-null   object\n",
      " 2   level                  4000 non-null   object\n",
      " 3   workload               4000 non-null   object\n",
      " 4   employment_years       4000 non-null   int64 \n",
      " 5   last_year_promo        4000 non-null   object\n",
      " 6   last_year_violations   4000 non-null   object\n",
      " 7   supervisor_evaluation  4000 non-null   int64 \n",
      " 8   salary                 4000 non-null   int64 \n",
      " 9   quit                   4000 non-null   object\n",
      "dtypes: int64(4), object(6)\n",
      "memory usage: 312.6+ KB\n"
     ]
    }
   ],
   "source": [
    "train_quit.info()"
   ]
  },
  {
   "cell_type": "markdown",
   "id": "1c0400d9",
   "metadata": {},
   "source": [
    "Вывод первых строк"
   ]
  },
  {
   "cell_type": "code",
   "execution_count": 47,
   "id": "71c7ef44",
   "metadata": {
    "scrolled": true
   },
   "outputs": [
    {
     "data": {
      "text/html": [
       "<div>\n",
       "<style scoped>\n",
       "    .dataframe tbody tr th:only-of-type {\n",
       "        vertical-align: middle;\n",
       "    }\n",
       "\n",
       "    .dataframe tbody tr th {\n",
       "        vertical-align: top;\n",
       "    }\n",
       "\n",
       "    .dataframe thead th {\n",
       "        text-align: right;\n",
       "    }\n",
       "</style>\n",
       "<table border=\"1\" class=\"dataframe\">\n",
       "  <thead>\n",
       "    <tr style=\"text-align: right;\">\n",
       "      <th></th>\n",
       "      <th>id</th>\n",
       "      <th>dept</th>\n",
       "      <th>level</th>\n",
       "      <th>workload</th>\n",
       "      <th>employment_years</th>\n",
       "      <th>last_year_promo</th>\n",
       "      <th>last_year_violations</th>\n",
       "      <th>supervisor_evaluation</th>\n",
       "      <th>salary</th>\n",
       "      <th>quit</th>\n",
       "    </tr>\n",
       "  </thead>\n",
       "  <tbody>\n",
       "    <tr>\n",
       "      <th>0</th>\n",
       "      <td>723290</td>\n",
       "      <td>sales</td>\n",
       "      <td>middle</td>\n",
       "      <td>high</td>\n",
       "      <td>2</td>\n",
       "      <td>no</td>\n",
       "      <td>no</td>\n",
       "      <td>4</td>\n",
       "      <td>54000</td>\n",
       "      <td>no</td>\n",
       "    </tr>\n",
       "    <tr>\n",
       "      <th>1</th>\n",
       "      <td>814010</td>\n",
       "      <td>sales</td>\n",
       "      <td>junior</td>\n",
       "      <td>medium</td>\n",
       "      <td>2</td>\n",
       "      <td>no</td>\n",
       "      <td>no</td>\n",
       "      <td>4</td>\n",
       "      <td>27600</td>\n",
       "      <td>no</td>\n",
       "    </tr>\n",
       "    <tr>\n",
       "      <th>2</th>\n",
       "      <td>155091</td>\n",
       "      <td>purchasing</td>\n",
       "      <td>middle</td>\n",
       "      <td>medium</td>\n",
       "      <td>5</td>\n",
       "      <td>no</td>\n",
       "      <td>no</td>\n",
       "      <td>1</td>\n",
       "      <td>37200</td>\n",
       "      <td>no</td>\n",
       "    </tr>\n",
       "    <tr>\n",
       "      <th>3</th>\n",
       "      <td>257132</td>\n",
       "      <td>sales</td>\n",
       "      <td>junior</td>\n",
       "      <td>medium</td>\n",
       "      <td>2</td>\n",
       "      <td>no</td>\n",
       "      <td>yes</td>\n",
       "      <td>3</td>\n",
       "      <td>24000</td>\n",
       "      <td>yes</td>\n",
       "    </tr>\n",
       "    <tr>\n",
       "      <th>4</th>\n",
       "      <td>910140</td>\n",
       "      <td>marketing</td>\n",
       "      <td>junior</td>\n",
       "      <td>medium</td>\n",
       "      <td>2</td>\n",
       "      <td>no</td>\n",
       "      <td>no</td>\n",
       "      <td>5</td>\n",
       "      <td>25200</td>\n",
       "      <td>no</td>\n",
       "    </tr>\n",
       "  </tbody>\n",
       "</table>\n",
       "</div>"
      ],
      "text/plain": [
       "       id        dept   level workload  employment_years last_year_promo  \\\n",
       "0  723290       sales  middle     high                 2              no   \n",
       "1  814010       sales  junior   medium                 2              no   \n",
       "2  155091  purchasing  middle   medium                 5              no   \n",
       "3  257132       sales  junior   medium                 2              no   \n",
       "4  910140   marketing  junior   medium                 2              no   \n",
       "\n",
       "  last_year_violations  supervisor_evaluation  salary quit  \n",
       "0                   no                      4   54000   no  \n",
       "1                   no                      4   27600   no  \n",
       "2                   no                      1   37200   no  \n",
       "3                  yes                      3   24000  yes  \n",
       "4                   no                      5   25200   no  "
      ]
     },
     "execution_count": 47,
     "metadata": {},
     "output_type": "execute_result"
    }
   ],
   "source": [
    "train_quit.head()"
   ]
  },
  {
   "cell_type": "markdown",
   "id": "e3ceb56a",
   "metadata": {},
   "source": [
    "Поиск пропусков"
   ]
  },
  {
   "cell_type": "code",
   "execution_count": 40,
   "id": "f24a8c07",
   "metadata": {},
   "outputs": [
    {
     "data": {
      "text/plain": [
       "id                       0\n",
       "dept                     0\n",
       "level                    0\n",
       "workload                 0\n",
       "employment_years         0\n",
       "last_year_promo          0\n",
       "last_year_violations     0\n",
       "supervisor_evaluation    0\n",
       "salary                   0\n",
       "quit                     0\n",
       "dtype: int64"
      ]
     },
     "execution_count": 40,
     "metadata": {},
     "output_type": "execute_result"
    }
   ],
   "source": [
    "train_quit.isnull().sum()"
   ]
  },
  {
   "cell_type": "markdown",
   "id": "18155d5c",
   "metadata": {},
   "source": [
    "Поиск дубликатов"
   ]
  },
  {
   "cell_type": "code",
   "execution_count": 41,
   "id": "89e300b7",
   "metadata": {},
   "outputs": [
    {
     "data": {
      "text/plain": [
       "0"
      ]
     },
     "execution_count": 41,
     "metadata": {},
     "output_type": "execute_result"
    }
   ],
   "source": [
    "train_quit.duplicated().sum()"
   ]
  },
  {
   "cell_type": "markdown",
   "id": "1497d576",
   "metadata": {},
   "source": [
    "Поиск неявных дубликатов плюс создание списка с категориальными признаками для дальнейшего анализа"
   ]
  },
  {
   "cell_type": "code",
   "execution_count": 75,
   "id": "def99a8b",
   "metadata": {},
   "outputs": [
    {
     "name": "stdout",
     "output_type": "stream",
     "text": [
      "dept ['sales' 'purchasing' 'marketing' 'technology' 'hr']\n",
      "level ['middle' 'junior' 'sinior']\n",
      "workload ['high' 'medium' 'low']\n",
      "last_year_promo ['no' 'yes']\n",
      "last_year_violations ['no' 'yes']\n",
      "quit ['no' 'yes']\n"
     ]
    }
   ],
   "source": [
    "train_quit_categor=[]\n",
    "for column in train_quit.select_dtypes(include=['object']):\n",
    "    print(column, train_quit[column].unique())\n",
    "    train_quit_categor.append(column)"
   ]
  },
  {
   "cell_type": "markdown",
   "id": "68ca5866",
   "metadata": {},
   "source": [
    "Подготовка пайплайна для заполнения пропусков"
   ]
  },
  {
   "cell_type": "code",
   "execution_count": 114,
   "id": "2b509b63",
   "metadata": {},
   "outputs": [],
   "source": [
    "one_pipe = Pipeline(\n",
    "    [\n",
    "        (\n",
    "            'simpleImputer', \n",
    "            SimpleImputer(missing_values=np.nan, strategy='most_frequent')\n",
    "        )\n",
    "    ]\n",
    ") "
   ]
  },
  {
   "cell_type": "markdown",
   "id": "4074d2c2",
   "metadata": {},
   "source": [
    "Использование пайплайнов для заполнения пропусков"
   ]
  },
  {
   "cell_type": "code",
   "execution_count": 115,
   "id": "d8908c62",
   "metadata": {},
   "outputs": [
    {
     "name": "stdout",
     "output_type": "stream",
     "text": [
      "<class 'pandas.core.frame.DataFrame'>\n",
      "RangeIndex: 2000 entries, 0 to 1999\n",
      "Data columns (total 9 columns):\n",
      " #   Column                 Non-Null Count  Dtype \n",
      "---  ------                 --------------  ----- \n",
      " 0   id                     2000 non-null   int64 \n",
      " 1   dept                   2000 non-null   object\n",
      " 2   level                  2000 non-null   object\n",
      " 3   workload               2000 non-null   object\n",
      " 4   employment_years       2000 non-null   int64 \n",
      " 5   last_year_promo        2000 non-null   object\n",
      " 6   last_year_violations   2000 non-null   object\n",
      " 7   supervisor_evaluation  2000 non-null   int64 \n",
      " 8   salary                 2000 non-null   int64 \n",
      "dtypes: int64(4), object(5)\n",
      "memory usage: 140.8+ KB\n"
     ]
    }
   ],
   "source": [
    "test_features[['dept', 'level', 'workload']] = one_pipe.fit_transform(test_features[['dept', 'level', 'workload']])\n",
    "test_features.info()"
   ]
  },
  {
   "cell_type": "code",
   "execution_count": 117,
   "id": "52d14627",
   "metadata": {},
   "outputs": [
    {
     "name": "stdout",
     "output_type": "stream",
     "text": [
      "<class 'pandas.core.frame.DataFrame'>\n",
      "RangeIndex: 4000 entries, 0 to 3999\n",
      "Data columns (total 10 columns):\n",
      " #   Column                 Non-Null Count  Dtype  \n",
      "---  ------                 --------------  -----  \n",
      " 0   id                     4000 non-null   int64  \n",
      " 1   dept                   4000 non-null   object \n",
      " 2   level                  4000 non-null   object \n",
      " 3   workload               4000 non-null   object \n",
      " 4   employment_years       4000 non-null   int64  \n",
      " 5   last_year_promo        4000 non-null   object \n",
      " 6   last_year_violations   4000 non-null   object \n",
      " 7   supervisor_evaluation  4000 non-null   int64  \n",
      " 8   salary                 4000 non-null   int64  \n",
      " 9   job_satisfaction_rate  4000 non-null   float64\n",
      "dtypes: float64(1), int64(4), object(5)\n",
      "memory usage: 312.6+ KB\n"
     ]
    }
   ],
   "source": [
    "train_job_satisfaction_rate[['dept', 'level']]=one_pipe.fit_transform(train_job_satisfaction_rate[['dept', 'level']])\n",
    "train_job_satisfaction_rate.info()"
   ]
  },
  {
   "cell_type": "markdown",
   "id": "74e8ff23",
   "metadata": {},
   "source": [
    "<b>Вывод:</b>\n",
    "\n",
    "1) test_features\n",
    "  - В данных были обнаружены пропуски в столбцах 'dept' и 'level'\n",
    "  - Были обнаружены пустые значения в столбцах 'workload' и 'dept'\n",
    "  - Остально все нормально, неявных пропусков не обнаружено, названия столбцов в змеином регистре, типы данных присвоены правильно\n",
    "    \n",
    "2) test_target_job_satisfaction_rate\n",
    "  - Проблем не обнаружено\n",
    "    \n",
    "3) test_target_quit\n",
    "  - Проблем не обнаружено\n",
    "    \n",
    "4) train_job_satisfaction_rate\n",
    "  - В данных были обнаружены пропуски в столбцах 'dept' и 'level'\n",
    "    \n",
    "5) train_quit\n",
    "  - Проблем не обнаружено\n",
    "    \n",
    "6) Везде был замечен нюанс sinior очень странно написан, но я решил не трогать вдруг так и надо"
   ]
  },
  {
   "cell_type": "markdown",
   "id": "f259066a",
   "metadata": {},
   "source": [
    "# Исследовательский анализ данных"
   ]
  },
  {
   "cell_type": "markdown",
   "id": "655c02c6",
   "metadata": {},
   "source": [
    "Далее будем использовать только \n",
    "- train_job_satisfaction_rate\n",
    "- test_features\n",
    "- test_target_job_satisfaction_rate"
   ]
  },
  {
   "cell_type": "markdown",
   "id": "328b9f2f",
   "metadata": {},
   "source": [
    "## train_job_satisfaction_rate"
   ]
  },
  {
   "cell_type": "markdown",
   "id": "47cd40a6",
   "metadata": {},
   "source": [
    "Отбор численных признаков"
   ]
  },
  {
   "cell_type": "code",
   "execution_count": 78,
   "id": "2b65aca0",
   "metadata": {},
   "outputs": [
    {
     "data": {
      "text/plain": [
       "['employment_years',\n",
       " 'supervisor_evaluation',\n",
       " 'salary',\n",
       " 'job_satisfaction_rate']"
      ]
     },
     "execution_count": 78,
     "metadata": {},
     "output_type": "execute_result"
    }
   ],
   "source": [
    "train_job_satisfaction_rate_num=[]\n",
    "for column in train_job_satisfaction_rate.select_dtypes(include=['int', 'float']):\n",
    "    train_job_satisfaction_rate_num.append(column)\n",
    "train_job_satisfaction_rate_num.remove('id')\n",
    "train_job_satisfaction_rate_num"
   ]
  },
  {
   "cell_type": "markdown",
   "id": "8e6ddeda",
   "metadata": {},
   "source": [
    "### Функция для построения гистограммы"
   ]
  },
  {
   "cell_type": "code",
   "execution_count": 118,
   "id": "36b1096a",
   "metadata": {},
   "outputs": [],
   "source": [
    "def hist_plot(df, iput_data):\n",
    "    for column in iput_data:\n",
    "        plt.figure(figsize=(8, 3))\n",
    "        plt.subplot(1, 2, 1)\n",
    "        plt.hist(df[column], bins=30, edgecolor='black')\n",
    "        plt.xlabel(f'Значения столбца \"{column}\"')\n",
    "        plt.ylabel('Частота')\n",
    "        plt.title(f'Гистограмма для \"{column}\"');"
   ]
  },
  {
   "cell_type": "markdown",
   "id": "fca2dfb6",
   "metadata": {},
   "source": [
    "Построим гистограмму для train_job_satisfaction_rate по численным признакам"
   ]
  },
  {
   "cell_type": "code",
   "execution_count": 119,
   "id": "e7266037",
   "metadata": {},
   "outputs": [
    {
     "data": {
      "image/png": "[encoded data removed]",
      "text/plain": [
       "<Figure size 800x300 with 1 Axes>"
      ]
     },
     "metadata": {},
     "output_type": "display_data"
    },
    {
     "data": {
      "image/png": "[encoded data removed]",
      "text/plain": [
       "<Figure size 800x300 with 1 Axes>"
      ]
     },
     "metadata": {},
     "output_type": "display_data"
    },
    {
     "data": {
      "image/png": "[encoded data removed]",
      "text/plain": [
       "<Figure size 800x300 with 1 Axes>"
      ]
     },
     "metadata": {},
     "output_type": "display_data"
    },
    {
     "data": {
      "image/png": "[encoded data removed]",
      "text/plain": [
       "<Figure size 800x300 with 1 Axes>"
      ]
     },
     "metadata": {},
     "output_type": "display_data"
    }
   ],
   "source": [
    "hist_plot(train_job_satisfaction_rate, train_job_satisfaction_rate_num)"
   ]
  },
  {
   "cell_type": "markdown",
   "id": "a167df54",
   "metadata": {},
   "source": [
    "### Функция для построения графика боксплота"
   ]
  },
  {
   "cell_type": "code",
   "execution_count": 120,
   "id": "7224699a",
   "metadata": {},
   "outputs": [],
   "source": [
    "def boxplot_plot(df, iput_data):\n",
    "    for column in iput_data:\n",
    "        plt.figure(figsize=(8, 3))\n",
    "        plt.subplot(1, 2, 1)\n",
    "        plt.boxplot(df[column])\n",
    "        plt.xlabel(f'Столбец \"{column}\"')\n",
    "        plt.ylabel('Значения')\n",
    "        plt.title(f'Ящик с усами для \"{column}\"');"
   ]
  },
  {
   "cell_type": "markdown",
   "id": "3e83adfa",
   "metadata": {},
   "source": [
    "Построим график боксплота для train_job_satisfaction_rate по численным признакам"
   ]
  },
  {
   "cell_type": "code",
   "execution_count": 121,
   "id": "6895385a",
   "metadata": {},
   "outputs": [
    {
     "data": {
      "image/png": "[encoded data removed]",
      "text/plain": [
       "<Figure size 800x300 with 1 Axes>"
      ]
     },
     "metadata": {},
     "output_type": "display_data"
    },
    {
     "data": {
      "image/png": "[encoded data removed]",
      "text/plain": [
       "<Figure size 800x300 with 1 Axes>"
      ]
     },
     "metadata": {},
     "output_type": "display_data"
    },
    {
     "data": {
      "image/png": "[encoded data removed]",
      "text/plain": [
       "<Figure size 800x300 with 1 Axes>"
      ]
     },
     "metadata": {},
     "output_type": "display_data"
    },
    {
     "data": {
      "image/png": "[encoded data removed]",
      "text/plain": [
       "<Figure size 800x300 with 1 Axes>"
      ]
     },
     "metadata": {},
     "output_type": "display_data"
    }
   ],
   "source": [
    "boxplot_plot(train_job_satisfaction_rate, train_job_satisfaction_rate_num)"
   ]
  },
  {
   "cell_type": "markdown",
   "id": "7c117ddd",
   "metadata": {},
   "source": [
    "### Функция для построения графика круговой диаграммы"
   ]
  },
  {
   "cell_type": "code",
   "execution_count": 150,
   "id": "d021b8b6",
   "metadata": {},
   "outputs": [],
   "source": [
    "def pie_plot(df, input_data):\n",
    "    for column in input_data:\n",
    "        counts = df[column].value_counts()\n",
    "        explode = [0.05] + [0] * (len(counts) - 1)\n",
    "        plt.figure(figsize=(8, 8))\n",
    "        plt.pie(counts, explode=explode, labels=counts.index,  autopct='%1.1f%%',  startangle=140)\n",
    "        plt.title(f'Круговая диаграмма \"{column}\"')"
   ]
  },
  {
   "cell_type": "markdown",
   "id": "120b0442",
   "metadata": {},
   "source": [
    "Построим график круговую диаграмму для train_job_satisfaction_rate по категориальным признакам"
   ]
  },
  {
   "cell_type": "code",
   "execution_count": 151,
   "id": "55e0b856",
   "metadata": {},
   "outputs": [
    {
     "data": {
      "image/png": "[encoded data removed]",
      "text/plain": [
       "<Figure size 800x800 with 1 Axes>"
      ]
     },
     "metadata": {},
     "output_type": "display_data"
    },
    {
     "data": {
      "image/png": "[encoded data removed]",
      "text/plain": [
       "<Figure size 800x800 with 1 Axes>"
      ]
     },
     "metadata": {},
     "output_type": "display_data"
    },
    {
     "data": {
      "image/png": "[encoded data removed]",
      "text/plain": [
       "<Figure size 800x800 with 1 Axes>"
      ]
     },
     "metadata": {},
     "output_type": "display_data"
    },
    {
     "data": {
      "image/png": "[encoded data removed]",
      "text/plain": [
       "<Figure size 800x800 with 1 Axes>"
      ]
     },
     "metadata": {},
     "output_type": "display_data"
    },
    {
     "data": {
      "image/png": "[encoded data removed]",
      "text/plain": [
       "<Figure size 800x800 with 1 Axes>"
      ]
     },
     "metadata": {},
     "output_type": "display_data"
    }
   ],
   "source": [
    "pie_plot(train_job_satisfaction_rate, train_job_satisfaction_rate_categor)"
   ]
  },
  {
   "cell_type": "markdown",
   "id": "65ce96b2",
   "metadata": {},
   "source": [
    "### Функция описательной статистики"
   ]
  },
  {
   "cell_type": "code",
   "execution_count": 172,
   "id": "4af4f9f0",
   "metadata": {},
   "outputs": [],
   "source": [
    "def describe_plot(df, input_data):\n",
    "    print(df[input_data].describe())"
   ]
  },
  {
   "cell_type": "markdown",
   "id": "8346b386",
   "metadata": {},
   "source": [
    "Построим "
   ]
  },
  {
   "cell_type": "code",
   "execution_count": 173,
   "id": "91069ba2",
   "metadata": {},
   "outputs": [
    {
     "name": "stdout",
     "output_type": "stream",
     "text": [
      "       employment_years  supervisor_evaluation        salary  \\\n",
      "count       4000.000000            4000.000000   4000.000000   \n",
      "mean           3.718500               3.476500  33926.700000   \n",
      "std            2.542513               1.008812  14900.703838   \n",
      "min            1.000000               1.000000  12000.000000   \n",
      "25%            2.000000               3.000000  22800.000000   \n",
      "50%            3.000000               4.000000  30000.000000   \n",
      "75%            6.000000               4.000000  43200.000000   \n",
      "max           10.000000               5.000000  98400.000000   \n",
      "\n",
      "       job_satisfaction_rate  \n",
      "count            4000.000000  \n",
      "mean                0.533995  \n",
      "std                 0.225327  \n",
      "min                 0.030000  \n",
      "25%                 0.360000  \n",
      "50%                 0.560000  \n",
      "75%                 0.710000  \n",
      "max                 1.000000  \n"
     ]
    }
   ],
   "source": [
    "describe_plot(train_job_satisfaction_rate, train_job_satisfaction_rate_num)"
   ]
  },
  {
   "cell_type": "code",
   "execution_count": 174,
   "id": "f86908fe",
   "metadata": {},
   "outputs": [
    {
     "name": "stdout",
     "output_type": "stream",
     "text": [
      "         dept   level workload last_year_promo last_year_violations\n",
      "count    4000    4000     4000            4000                 4000\n",
      "unique      5       3        3               2                    2\n",
      "top     sales  junior   medium              no                   no\n",
      "freq     1518    1898     2066            3880                 3441\n"
     ]
    }
   ],
   "source": [
    "describe_plot(train_job_satisfaction_rate, train_job_satisfaction_rate_categor)"
   ]
  },
  {
   "cell_type": "markdown",
   "id": "5e48606c",
   "metadata": {},
   "source": [
    "### Функция для построения матрицы корреляции"
   ]
  },
  {
   "cell_type": "code",
   "execution_count": 195,
   "id": "0f2d1718",
   "metadata": {},
   "outputs": [],
   "source": [
    "def phik_matrix_plot(df, input_data):\n",
    "    phik_matrix=df[input_data].phik_matrix(interval_cols=input_data)\n",
    "    print(phik_matrix)\n",
    "    plt.figure(figsize=(10,7))\n",
    "    sns.heatmap(phik_matrix, annot=True);"
   ]
  },
  {
   "cell_type": "code",
   "execution_count": 196,
   "id": "6b4509f1",
   "metadata": {},
   "outputs": [
    {
     "name": "stdout",
     "output_type": "stream",
     "text": [
      "                       employment_years  supervisor_evaluation    salary  \\\n",
      "employment_years               1.000000               0.000000  0.483419   \n",
      "supervisor_evaluation          0.000000               1.000000  0.000000   \n",
      "salary                         0.483419               0.000000  1.000000   \n",
      "job_satisfaction_rate          0.325603               0.764364  0.165830   \n",
      "\n",
      "                       job_satisfaction_rate  \n",
      "employment_years                    0.325603  \n",
      "supervisor_evaluation               0.764364  \n",
      "salary                              0.165830  \n",
      "job_satisfaction_rate               1.000000  \n"
     ]
    },
    {
     "data": {
      "image/png": "[encoded data removed]",
      "text/plain": [
       "<Figure size 1000x700 with 2 Axes>"
      ]
     },
     "metadata": {},
     "output_type": "display_data"
    }
   ],
   "source": [
    "phik_matrix_plot(train_job_satisfaction_rate, train_job_satisfaction_rate_num)"
   ]
  },
  {
   "cell_type": "markdown",
   "id": "8534e176",
   "metadata": {},
   "source": [
    "## test_features"
   ]
  },
  {
   "cell_type": "code",
   "execution_count": null,
   "id": "3c8e39cb",
   "metadata": {},
   "outputs": [],
   "source": []
  }
 ],
 "metadata": {
  "kernelspec": {
   "display_name": "Python 3 (ipykernel)",
   "language": "python",
   "name": "python3"
  },
  "language_info": {
   "codemirror_mode": {
    "name": "ipython",
    "version": 3
   },
   "file_extension": ".py",
   "mimetype": "text/x-python",
   "name": "python",
   "nbconvert_exporter": "python",
   "pygments_lexer": "ipython3",
   "version": "3.9.18"
  }
 },
 "nbformat": 4,
 "nbformat_minor": 5
}
